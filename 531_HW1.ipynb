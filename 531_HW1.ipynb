{
 "cells": [
  {
   "cell_type": "markdown",
   "metadata": {},
   "source": [
    "# Problem 1"
   ]
  },
  {
   "cell_type": "markdown",
   "metadata": {},
   "source": [
    "$f(x)= \\begin {cases} 1, 0<x<1\\\\0,  otherwise \\end {cases}$<br>\n",
    "$f(y)= \\begin {cases} e^{-y}, y\\ge 0\\\\0,  y<0 \\end {cases}$"
   ]
  },
  {
   "cell_type": "markdown",
   "metadata": {},
   "source": [
    "### 1. (1)"
   ]
  },
  {
   "cell_type": "markdown",
   "metadata": {},
   "source": [
    "$Z = Z(x,y) = X+Y$<br>\n",
    "$Y = Z-X \\ge0$, so $ Z\\ge X$ <br>\n",
    "$f(x,y) = f(x)f(y) = \\begin {cases} e^{-y}, 0<x<1,y \\ge 0\\\\0,  else\\end {cases}$<br>\n",
    "$\\int\\int f(x,y)dxdy = \\int\\int f(x,y(x,z))|J(x,z)|dxdz$ where:<br>"
   ]
  },
  {
   "cell_type": "markdown",
   "metadata": {},
   "source": [
    "$J(x,z)=\\begin{vmatrix}\n",
    "\\frac{\\partial y}{\\partial x} &  \\frac{\\partial y}{\\partial z} \\\\\n",
    "\\frac{\\partial x}{\\partial x} &  \\frac{\\partial y}{\\partial x}\n",
    "\\end{vmatrix} = \\begin{vmatrix}\n",
    "\\frac{\\partial y}{\\partial x} &  \\frac{\\partial y}{\\partial z} \\\\\n",
    "1 &  0\n",
    "\\end{vmatrix} = -\\frac {\\partial y}{\\partial z} = -1$ "
   ]
  },
  {
   "cell_type": "markdown",
   "metadata": {},
   "source": [
    "$ \\int\\int f(x,y)dxdy = \\int\\int f(x,y(x,z))|\\frac {\\partial y}{\\partial z}|dxdz =\\int\\int f(x,y(x,z))dxdz$<br>\n",
    "$g(x,z) = f(x,y(x,z)) = \\begin {cases} e^{x-z}, 0<x<1,z \\ge x \\\\0,  else\\end {cases}$<br>"
   ]
  },
  {
   "cell_type": "markdown",
   "metadata": {},
   "source": [
    "$\\int\\int g(x,z)dxdz = \\int_0^1 \\int_x^\\infty e^{x-z}dzdx = \\int_0^1 -e^{x-z}|_x^\\infty dx = \\int_0^1 (-0+1) dx =1$"
   ]
  },
  {
   "cell_type": "markdown",
   "metadata": {},
   "source": [
    "___So the marginal distribution for Z it self is:___<br>\n",
    "\n",
    "$g_z(z) =\\int_{-\\infty}^{+\\infty}g(x,z)dx = \\begin {cases}1-e^{-z}dx, 0<z<1\\\\ (e-1)e^{-z}, 1<z<\\infty \\end {cases}$"
   ]
  },
  {
   "cell_type": "markdown",
   "metadata": {},
   "source": [
    "#### sketch for density"
   ]
  },
  {
   "cell_type": "code",
   "execution_count": 15,
   "metadata": {
    "scrolled": true
   },
   "outputs": [
    {
     "data": {
      "image/png": "[encoded data removed]",
      "text/plain": [
       "<Figure size 648x315.36 with 1 Axes>"
      ]
     },
     "metadata": {
      "needs_background": "light"
     },
     "output_type": "display_data"
    }
   ],
   "source": [
    "import numpy as np\n",
    "import matplotlib.pyplot as plt\n",
    "\n",
    "#Define functions\n",
    "def g1(z):\n",
    "    return 1-np.exp(-z)\n",
    "def g2(z):\n",
    "    return np.exp(1-z)-np.exp(-z)\n",
    "\n",
    "#Sketch\n",
    "z1=np.arange(0,1,0.00001)\n",
    "d1=g1(z1)\n",
    "z2 = np.arange(1, 30, 0.00001)\n",
    "d2=g2(z2)\n",
    "d_max=np.max(d1)\n",
    "d_min=np.min(d2)\n",
    "plt.figure(figsize=(3*3,1.2*3.65))\n",
    "plt.plot(z1,d1,'-',c='g',lw=2)\n",
    "plt.plot(z2,d2,'-',c='g',lw=2)\n",
    "plt.xlabel('z')\n",
    "plt.ylabel('g(z)')\n",
    "plt.show()\n"
   ]
  },
  {
   "cell_type": "markdown",
   "metadata": {},
   "source": [
    "___Fig.1:___ PDF for g(z).\n",
    "<br>integral g(z):\n",
    "$\\int_0^1 1-e^{-z}+\\int_1^{\\infty} (e-1)e^{-z} = \\frac {1}{e}+1-\\frac {1}{e}=1$"
   ]
  },
  {
   "cell_type": "markdown",
   "metadata": {},
   "source": [
    "#### Find the median."
   ]
  },
  {
   "cell_type": "markdown",
   "metadata": {},
   "source": [
    "Solve function  $\\int_0^1\\int_x^m e^{x-z}dxdz = 0.5$,<br>\n",
    "we get median $m = -log(\\frac{0.5}{e-1})\\approx1.234$\n"
   ]
  },
  {
   "cell_type": "markdown",
   "metadata": {},
   "source": [
    "### 1.（2）"
   ]
  },
  {
   "cell_type": "markdown",
   "metadata": {},
   "source": [
    "$E(X-Y) = \\int_{-\\infty}^{+\\infty}\\int_{-\\infty}^{+\\infty}(x-y)f(x,y)dxdy=\n",
    "\\int_{0}^{+\\infty}\\int_{0}^{1}(x-y)e^{-y}dxdy=\n",
    "\\int_0^{+\\infty}(0.5x^2e^{-y}-xye^{-y})|_0^1dy$<br>\n",
    "$=\\int_0^{+\\infty}e^{-y}(0.5-y)dy=(-0.5e^{-y}+ye^{-y}+e^{-y})|_0^{+\\infty}=-0.5$\n"
   ]
  },
  {
   "cell_type": "markdown",
   "metadata": {},
   "source": [
    "$Var(X-Y)= E[(X-Y)^2]-E^2(X-Y)$,___where___<br>\n",
    "$E[(X-Y)^2] = \\int_{-\\infty}^{+\\infty}\\int_{-\\infty}^{+\\infty}(x^2-2xy+y^2)f(x,y)dxdy=\n",
    "\\int_{0}^{+\\infty}\\int_{0}^{1}(x^2-2xy+y^2)e^{-y}dxdy=\n",
    "\\int_0^{+\\infty}(\\frac{1}{3}x^3+y^2x-x^2y)e^{-y}|_0^1dy$<br>\n",
    "$=\\int_0^{+\\infty}e^{-y}(\\frac{1}{3}+y^2-y)dy=\\frac {4}{3}$<br>\n",
    "$Var(X-Y)=\\frac {16}{9}-\\frac{1}{4}=\\frac{13}{12}$"
   ]
  },
  {
   "cell_type": "markdown",
   "metadata": {},
   "source": [
    "$E(ZX)= E[(X+Y)X]=\\int_{-\\infty}^{+\\infty}\\int_{-\\infty}^{+\\infty}(x+y)xf(x,y)dxdy=\n",
    "\\int_{0}^{+\\infty}\\int_{0}^{1}(x+y)xe^{-y}dxdy=\n",
    "\\int_0^{+\\infty}(\\frac {1}{3}x^3+\\frac {1}{2}x^2y)e^{-y}|_0^1dy$<br>\n",
    "$=\\int_0^{+\\infty}e^{-y}(\\frac{1}{3}+\\frac{1}{2}y)dy=\\frac {5}{6}$"
   ]
  },
  {
   "cell_type": "markdown",
   "metadata": {},
   "source": [
    "## Problem 2"
   ]
  },
  {
   "cell_type": "markdown",
   "metadata": {},
   "source": [
    "$f(x,y) = c\\cdot{} xe^{-y}, (0<x<y<\\infty, c >0)$"
   ]
  },
  {
   "cell_type": "markdown",
   "metadata": {},
   "source": [
    "### 2. (1)\n",
    "f(x,y) is a bivariate density function if c > 0 satisfy following equation:\n",
    "<br>$\\int_{0}^{\\infty}\\int_{x}^{\\infty}c\\cdot{} xe^{-y}dxdy = 1$<br>___Solve, we can see___ $\\int_0^{\\infty} c\\cdot xe^{-x}dx =\n",
    "c(-xe^{-x}-e^{-x})|_0^\\infty=c \\cdot 1= 1$<br>\n",
    "The constant ___c = 1___.<br>\n",
    "$f(x,y) = xe^{-y}, (0<x<y<\\infty)$"
   ]
  },
  {
   "cell_type": "markdown",
   "metadata": {},
   "source": [
    "### 2. (2)\n"
   ]
  },
  {
   "cell_type": "markdown",
   "metadata": {},
   "source": [
    "$f(x) = \\int_x^\\infty xe^{-y}dy = xe^{-x}$<br>\n",
    "$f(y) = \\int_0^y xe^{-y}dx = \\frac{1}{2}y^2e^{-y}$"
   ]
  },
  {
   "cell_type": "markdown",
   "metadata": {},
   "source": [
    "### 2. (3)"
   ]
  },
  {
   "cell_type": "markdown",
   "metadata": {},
   "source": [
    "$f(x|Y=y) = \\frac {f(x,y)}{f(y)}= \\frac {xe^{-y}}{\\frac{1}{2}y^2e^{-y}}=\\frac {2x}{y}$\n",
    "<br>___Domain___:0<x<y"
   ]
  },
  {
   "cell_type": "markdown",
   "metadata": {},
   "source": [
    "### 2. (4)"
   ]
  },
  {
   "cell_type": "markdown",
   "metadata": {},
   "source": [
    "$E(X)= \\int_0^\\infty xf(x)dx =\\int_0^\\infty x^2e^{-x}dx = 2$<br>\n",
    "$E(Y)= \\int_0^\\infty yf(y)dy =\\int_0^\\infty \\frac {1}{2}y^3e^{-y}dy = 3$<br>\n",
    "$E(XY) = \\int_{0}^{\\infty}\\int_{x}^{\\infty}xyf(x,y)dxdy = \\int_{0}^{\\infty}\\int_{x}^{\\infty} x^2ye^{-y}dydx=\n",
    "\\int_{0}^{\\infty}(-x^2(-e^{-x}x-e^{-x}))dx=8$ <br>\n",
    "$Cov(X,Y) = E(XY)-E(X)E(Y) = 2-2*3=2$"
   ]
  },
  {
   "cell_type": "markdown",
   "metadata": {},
   "source": [
    "### 2. (5) ___Find___ $P(0<X<\\sqrt{y})$:"
   ]
  },
  {
   "cell_type": "markdown",
   "metadata": {},
   "source": [
    "That is, $ y>x^2$, which makes the integral changes to two parts:<br>\n",
    "when $x \\in(0,1),y\\in(x,\\infty)$, when $x \\in(1,\\infty),y\\in(x^2,\\infty)$"
   ]
  },
  {
   "cell_type": "markdown",
   "metadata": {},
   "source": [
    "$P(0<X<\\sqrt{y})=\\int_{0}^{1}\\int_{x}^{\\infty} xe^{-y}dydx+\\int_{1}^{\\infty}\\int_{x^2}^{\\infty} xe^{-y}dydx\n",
    "=1-\\frac{2}{e}+\\frac{1}{2e}$"
   ]
  },
  {
   "cell_type": "markdown",
   "metadata": {},
   "source": [
    "## Problem 3"
   ]
  },
  {
   "cell_type": "markdown",
   "metadata": {},
   "source": [
    "### 3. (1)"
   ]
  },
  {
   "cell_type": "markdown",
   "metadata": {},
   "source": [
    "Beta distribution is a family of continuous probability distributions defined on the interval $[0,1]$ parametrized by two positive shape parameters, denoted by $\\alpha$ and $\\beta$, that appear as exponents of the random variable and control the shape of the distribution, which means that the prior can be updated according to the result of experiment synchronously by changing $\\alpha$ and $\\beta$."
   ]
  },
  {
   "cell_type": "markdown",
   "metadata": {},
   "source": [
    "### 3. (2)"
   ]
  },
  {
   "cell_type": "markdown",
   "metadata": {},
   "source": [
    "Suppose n trails of experiment was done and we got k times of $y_B$.<br>\n",
    "$p(y_B|\\theta_B）= \\theta^k(1-\\theta)^{n-k}$<br>\n",
    "$p(\\theta_B) = \\frac {\\theta^{\\alpha-1}(1-\\theta)^{\\beta-1}}{B(\\alpha,\\beta）}$"
   ]
  },
  {
   "cell_type": "markdown",
   "metadata": {},
   "source": [
    "### 3. (3)"
   ]
  },
  {
   "cell_type": "markdown",
   "metadata": {},
   "source": [
    "$p(\\theta_B|y_B）=\\frac{\\theta^{k+\\alpha-1}(1-\\theta)^{n-k+\\beta-1}}{B(\\alpha,\\beta)}$"
   ]
  },
  {
   "cell_type": "markdown",
   "metadata": {},
   "source": [
    "### 4. (4)"
   ]
  },
  {
   "cell_type": "markdown",
   "metadata": {},
   "source": [
    "$n_B=40,y_B=0$<br>\n",
    "$\\theta_{MLE} = argmax p(y_B|\\theta_B）=argmax(\\theta^0(1-\\theta)^{40}) = argmax(1-\\theta)^{40}=0$<br>\n",
    "Confidence interval is $\\bar x \\pm z\\frac {\\sigma}{\\sqrt{n}}$. For binomial ditribution, $\\sigma = n\\theta(1-\\theta)=0$\n",
    "<br>So the confidence interval is $0\\pm0$, i.e., there is no confidence interval. This make sence since $\\theta$ is the probabiliy. When $\\theta = 0$, a non zero confidence interval will result in a negative probabilty, which is apparently wrong."
   ]
  },
  {
   "cell_type": "markdown",
   "metadata": {},
   "source": [
    "## Problem 4"
   ]
  },
  {
   "cell_type": "markdown",
   "metadata": {},
   "source": [
    "\n",
    "$P(x)   = N(x|\\mu_x,\\Sigma_{x|y})P(x)   = N(2,1)   = \\frac{1} {\\sqrt{2\\pi}}e^{-\\frac{(x-2)^2}{2}}$<br>\n",
    "$P(x|y = 0.5)=N(\\mu_{x|y=0.5},\\Sigma_{x|y=0.5})$, __where:__<br>"
   ]
  },
  {
   "cell_type": "markdown",
   "metadata": {},
   "source": [
    "$\\mu_{x|y=0.5}=\\mu_x+\\Sigma_{xy} {\\Sigma^{-1}_{yy}}(y-\\mu_y) = 2+(-1.5)(0.2)(-0.5-0) = 2.15$<br>\n",
    "$\\Sigma_{x|y=0.5}=\\Sigma _{xx}-\\Sigma_{xy}\\Sigma_{yy}^{-1}\\Sigma_{yx}=1-(-1.5)(0.2)(-1.5)=0.55$"
   ]
  },
  {
   "cell_type": "markdown",
   "metadata": {},
   "source": [
    "___So___ $P(x|y = 0.5)=N(\\mu_{x|y=0.5},\\Sigma_{x|y=0.5}) = N(2.15,0.55) = \\frac{1} {\\sqrt{2\\pi0.55}}e^{-\\frac {1}{2}\\frac{(x-2.15)^2}{0.55}}$"
   ]
  },
  {
   "cell_type": "markdown",
   "metadata": {},
   "source": [
    "## $P(x, y)$"
   ]
  },
  {
   "cell_type": "code",
   "execution_count": 84,
   "metadata": {},
   "outputs": [
    {
     "data": {
      "image/png": "[encoded data removed]",
      "text/plain": [
       "<Figure size 432x288 with 2 Axes>"
      ]
     },
     "metadata": {
      "needs_background": "light"
     },
     "output_type": "display_data"
    }
   ],
   "source": [
    "import numpy as np\n",
    "import matplotlib.pyplot as plt\n",
    "from scipy import stats\n",
    "from scipy.stats.kde import gaussian_kde\n",
    "from scipy.stats import multivariate_normal\n",
    "\n",
    "#Generating 1000 samples for P(x,y).\n",
    "mean = [2, 0]\n",
    "cov = [[1, -1.5], [-1.5, 5]]\n",
    "x,y = np.random.multivariate_normal(mean,cov, 1000).T\n",
    "\n",
    "#Kernel KDE:\n",
    "\n",
    "xmin = x.min()\n",
    "xmax = x.max()\n",
    "ymin = y.min()\n",
    "ymax = y.max()\n",
    "\n",
    "# Perform a kernel density estimation on the data:\n",
    "X, Y = np.mgrid[xmin:xmax:100j, ymin:ymax:100j]\n",
    "positions = np.vstack([X.ravel(), Y.ravel()])\n",
    "values = np.vstack([x, y])\n",
    "kernel = stats.gaussian_kde(values)\n",
    "Z = np.reshape(kernel(positions).T, X.shape)\n",
    "\n",
    "#Plot\n",
    "fig1 = plt.figure() \n",
    "ax = fig1.add_subplot(121)\n",
    "ax.imshow(np.rot90(Z), cmap=plt.cm.gist_earth_r,extent=[xmin, xmax, ymin, ymax])\n",
    "ax.plot(x, y, 'k.', markersize=1)\n",
    "ax.set_xlim([xmin, xmax])\n",
    "ax.set_ylim([ymin, ymax])\n",
    "ax.set_xlabel(\"x\")\n",
    "ax.set_ylabel(\"y\")\n",
    "              \n",
    "\n",
    "# Define real density function p(x,y).\n",
    "\n",
    "p = multivariate_normal(mean, cov)\n",
    "\n",
    "#Plot\n",
    "X1, Y1 = np.mgrid[xmin:xmax:100j, ymin:ymax:100j]\n",
    "positions1 = np.dstack((X1, Y1))\n",
    "ax2 = fig1.add_subplot(122)\n",
    "ax2.contourf(X1, Y1, p.pdf(positions1))\n",
    "ax2.set_xlim([xmin, xmax])\n",
    "ax2.set_ylim([ymin, ymax])\n",
    "ax2.set_xlabel(\"x\")\n",
    "ax2.set_ylabel(\"y\")\n",
    "              \n",
    "plt.show()\n"
   ]
  },
  {
   "cell_type": "markdown",
   "metadata": {},
   "source": [
    "___Fig 2.___ PDF contour plot obtained from kernel(left) and analytical function(right)."
   ]
  },
  {
   "cell_type": "markdown",
   "metadata": {},
   "source": [
    "## $P(x)$"
   ]
  },
  {
   "cell_type": "code",
   "execution_count": 78,
   "metadata": {},
   "outputs": [
    {
     "data": {
      "image/png": "[encoded data removed]",
      "text/plain": [
       "<Figure size 432x288 with 1 Axes>"
      ]
     },
     "metadata": {
      "needs_background": "light"
     },
     "output_type": "display_data"
    }
   ],
   "source": [
    "import numpy as np\n",
    "import matplotlib.pyplot as plt\n",
    "from scipy import stats\n",
    "from scipy.stats.kde import gaussian_kde\n",
    "from scipy.stats import multivariate_normal\n",
    "\n",
    "#Generating 1000 samples for P(x).\n",
    "mean, var = 2, 1\n",
    "stdev = np.sqrt(var)\n",
    "x = np.random.normal(mean, stdev, 1000)\n",
    "xmin, xmax = x.min(), x.max()\n",
    "\n",
    "# Set grid\n",
    "x_grid = np.linspace(xmin, xmax, 1000)\n",
    "\n",
    "# Kenerl estimation\n",
    "gkde = stats.gaussian_kde(x)\n",
    "KDE = gkde.evaluate(x_grid)\n",
    "x.sort()\n",
    "\n",
    "# Analytical p(x)\n",
    "p_exact = (1/np.sqrt(2*np.pi*var))*np.exp(-(1/2)*((x_grid-mean)/np.sqrt(var))**2)\n",
    "\n",
    "# Plot\n",
    "fig, ax = plt.subplots()\n",
    "ax.plot(x_grid, KDE, 'g-', label = 'Predicted')\n",
    "ax.plot(x_grid, p_exact, 'r-', label = 'Analytical')\n",
    "ax.legend(loc = 'upper right')\n",
    "ax.set_xlabel(\"x\")\n",
    "ax.set_ylabel(\"p(x)\")\n",
    "plt.show()\n"
   ]
  },
  {
   "cell_type": "markdown",
   "metadata": {},
   "source": [
    "___Fig. 3___ PDF plot obtained from kernel(green) and analytical function(red) for p(x)."
   ]
  },
  {
   "cell_type": "markdown",
   "metadata": {},
   "source": [
    "## $P(x|y = 0.5)$"
   ]
  },
  {
   "cell_type": "code",
   "execution_count": 79,
   "metadata": {},
   "outputs": [
    {
     "data": {
      "image/png": "[encoded data removed]",
      "text/plain": [
       "<Figure size 432x288 with 1 Axes>"
      ]
     },
     "metadata": {
      "needs_background": "light"
     },
     "output_type": "display_data"
    }
   ],
   "source": [
    "import numpy as np\n",
    "import matplotlib.pyplot as plt\n",
    "from scipy import stats\n",
    "from scipy.stats.kde import gaussian_kde\n",
    "from scipy.stats import multivariate_normal\n",
    "\n",
    "#Generating 1000 samples for P(x|y=0.5).\n",
    "mean, var = 2.15, 0.55\n",
    "stdev = np.sqrt(var)\n",
    "x = np.random.normal(mean, stdev, 1000)\n",
    "xmin, xmax = x.min(), x.max()\n",
    "\n",
    "# Set grid\n",
    "x_grid = np.linspace(xmin, xmax, 1000)\n",
    "\n",
    "# Kenerl estimation\n",
    "KDE = stats.gaussian_kde(x)\n",
    "p_estimate = KDE.evaluate(x_grid)\n",
    "\n",
    "\n",
    "# Analytical p(x)\n",
    "p_exact = (1/np.sqrt(2*np.pi*var))*np.exp(-(1/2)*((x_grid-mean)/np.sqrt(var))**2)\n",
    "\n",
    "# Plot\n",
    "fig, ax = plt.subplots()\n",
    "ax.plot(x_grid, p_estimate, 'g-', label = 'Predicted')\n",
    "ax.plot(x_grid, p_exact, 'r-', label = 'Analytical')\n",
    "ax.legend(loc = 'upper right')\n",
    "ax.set_xlabel(\"x\")\n",
    "ax.set_ylabel(\"p(x|y=0.5)\")\n",
    "plt.show()\n"
   ]
  },
  {
   "cell_type": "markdown",
   "metadata": {},
   "source": [
    "___Fig. 4___ PDF plot obtained from kernel(green) and analytical function(red) for p(x)."
   ]
  },
  {
   "cell_type": "markdown",
   "metadata": {},
   "source": [
    "# Problem 5"
   ]
  },
  {
   "cell_type": "code",
   "execution_count": 93,
   "metadata": {},
   "outputs": [
    {
     "data": {
      "text/plain": [
       "Text(0, 0.5, 'y2')"
      ]
     },
     "execution_count": 93,
     "metadata": {},
     "output_type": "execute_result"
    },
    {
     "data": {
      "image/png": "[encoded data removed]",
      "text/plain": [
       "<Figure size 432x288 with 1 Axes>"
      ]
     },
     "metadata": {
      "needs_background": "light"
     },
     "output_type": "display_data"
    }
   ],
   "source": [
    "import numpy as np\n",
    "import matplotlib.pyplot as plt\n",
    "from scipy import stats\n",
    "from scipy.stats.kde import gaussian_kde\n",
    "from scipy.stats import multivariate_normal\n",
    "\n",
    "#Generating 5000 samples for P(x1,x2).\n",
    "mean = [3, -1]\n",
    "cov = [[1.2, 0.4], [0.4, 1]]\n",
    "x,y = np.random.multivariate_normal(mean,cov, 5000).T\n",
    "a = 1.5\n",
    "b = 0.2\n",
    "y1 = a*x\n",
    "y2 = y/a+b*(x**2+a**2)\n",
    "\n",
    "\n",
    "#Kernel KDE:\n",
    "\n",
    "y1min = y1.min()\n",
    "y1max = y1.max()\n",
    "y2min = y2.min()\n",
    "y2max = y2.max()\n",
    "\n",
    "# Perform a kernel density estimation on the data:\n",
    "X, Y = np.mgrid[y1min:y1max:100j, y2min:y2max:100j]\n",
    "positions = np.vstack([X.ravel(), Y.ravel()])\n",
    "values = np.vstack([y1, y2])\n",
    "kernel = stats.gaussian_kde(values)\n",
    "Z = np.reshape(kernel(positions).T, X.shape)\n",
    "\n",
    "#Plot\n",
    "fig1 = plt.figure() \n",
    "ax = fig1.add_subplot(121)\n",
    "ax.imshow(np.rot90(Z), cmap=plt.cm.gist_earth_r,extent=[y1min, y1max, y2min, y2max])\n",
    "ax.plot(y1, y2, 'k.', markersize=0.3)\n",
    "ax.set_xlim([y1min, y1max])\n",
    "ax.set_ylim([y2min, y2max])\n",
    "ax.set_xlabel(\"y1\")\n",
    "ax.set_ylabel(\"y2\")\n",
    "              "
   ]
  },
  {
   "cell_type": "markdown",
   "metadata": {},
   "source": [
    "#### Empiracal mean:"
   ]
  },
  {
   "cell_type": "code",
   "execution_count": 98,
   "metadata": {},
   "outputs": [
    {
     "name": "stdout",
     "output_type": "stream",
     "text": [
      "The empirical mean of y1 is  4.48\n",
      "The empirical mean of y2 is  1.8\n"
     ]
    }
   ],
   "source": [
    "y1_mean = y1.mean().round(2)\n",
    "y2_mean = y2.mean().round(2)\n",
    "print(\"The empirical mean of y1 is \", y1_mean)\n",
    "print(\"The empirical mean of y2 is \", y2_mean)"
   ]
  },
  {
   "cell_type": "code",
   "execution_count": null,
   "metadata": {},
   "outputs": [],
   "source": []
  },
  {
   "cell_type": "code",
   "execution_count": null,
   "metadata": {},
   "outputs": [],
   "source": []
  },
  {
   "cell_type": "code",
   "execution_count": null,
   "metadata": {},
   "outputs": [],
   "source": []
  },
  {
   "cell_type": "code",
   "execution_count": null,
   "metadata": {},
   "outputs": [],
   "source": []
  },
  {
   "cell_type": "code",
   "execution_count": null,
   "metadata": {},
   "outputs": [],
   "source": []
  }
 ],
 "metadata": {
  "kernelspec": {
   "display_name": "Python 3",
   "language": "python",
   "name": "python3"
  },
  "language_info": {
   "codemirror_mode": {
    "name": "ipython",
    "version": 3
   },
   "file_extension": ".py",
   "mimetype": "text/x-python",
   "name": "python",
   "nbconvert_exporter": "python",
   "pygments_lexer": "ipython3",
   "version": "3.7.3"
  }
 },
 "nbformat": 4,
 "nbformat_minor": 2
}
