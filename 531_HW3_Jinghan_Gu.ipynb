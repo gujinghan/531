{
 "cells": [
  {
   "cell_type": "code",
   "execution_count": 2,
   "metadata": {},
   "outputs": [],
   "source": [
    "import numpy as np\n",
    "from pyDOE import *\n",
    "import matplotlib.pyplot as plt\n",
    "from numpy.linalg import *\n",
    "import torch\n",
    "import pandas as pd\n",
    "from sklearn.preprocessing import LabelBinarizer \n",
    "from sklearn.metrics import confusion_matrix\n",
    "from sklearn.metrics import accuracy_score"
   ]
  },
  {
   "cell_type": "markdown",
   "metadata": {},
   "source": [
    "# Problem 1.(1)"
   ]
  },
  {
   "cell_type": "markdown",
   "metadata": {},
   "source": [
    "$\\text{According to Bayes rule: }$\n",
    "\\begin{align}\n",
    "\\hat{y} &= \\text{argmax}P(y\\vert x) \\backsim \\text{argmax}P(x\\vert y)P(y)\n",
    "\\end{align}\n",
    "\n",
    "$\\text{A binary classification itself is a Bernoulli Experiment and }P(y = 1) = \\frac{1}{2}\\text{ , so}$\n",
    "\n",
    "\\begin{align}\n",
    "P(y) &=(\\frac{1}{2})^y(1-\\frac{1}{2})^{1-y}=\\frac{1}{2}\\\\[5pt]\n",
    "\\end{align}\n",
    "\n",
    "\\begin{align}\n",
    "log(\\hat{y}) &= \\text{argmax }log(P(y\\vert x)) = \\text{argmax }log(P(x\\vert y)P(y))\\\\[5pt]\n",
    "& = \\text{argmax}\\left(\\text{log } P(x\\vert y) + \\text{log} P(y)\\right)\\\\[5pt]\n",
    "\\end{align}\n",
    "\n",
    "$\\text{The log likelihood function of joint is: } L(\\theta) = log\\Pi_{i = 1}^N P(x_i,y_i) = \\Sigma_{i=1}^Nlog[P(x_i\\vert y_i)P(y_i)]$\n",
    "\n",
    "\\begin{align}\n",
    "\\Sigma_{i = 1}^N\\text{log}[(P(x_i\\vert y_i)P(y_i))] &=\\Sigma_{i = 1}^N\\left[\\text{log } P(x_i\\vert y_i) + \\text{log} P(y_i)\\right] \\\\[5pt]\n",
    "& = \\Sigma_{i = 1}^N\\left[\\text{log }N(\\mu_0, \\Sigma, g)^{y_i} + \\text{log }N(\\mu_1, \\Sigma, g)^{1-y_i}+log\\frac{1}{2}\\right]\\\\[5pt]\n",
    "& =  \\Sigma_{i = 1}^N\\left[(y_i)\\text{log }N(\\mu_0, \\Sigma, g)+ (1-y_i)\\text{log }N(\\mu_1, \\Sigma, g)+log\\frac{1}{2}\\right]\\\\[5pt]\n",
    "\\end{align}\n",
    "\n",
    "\n",
    "$\\text{where }N(\\mu_k, \\Sigma, g) = c_k\\cdot exp(-g((x-\\mu_k)^T\\Sigma^{-1}(x-\\mu_k)$<br>\n",
    "$So,$\n",
    "\\begin{align}\n",
    "\\Sigma_{i = 1}^N\\text{log}[(P(x_i\\vert y_i)P(y_i))] \n",
    "& = =  \\Sigma_{i = 1}^N\\left[-(y_i)\\cdot g[(x_i-\\mu_0)^T\\Sigma^{-1}(x_i-\\mu_0)]-\\\\[5pt](1-y_i)g[(x_i-\\mu_1)^T\\Sigma^{-1}(x_i-\\mu_1)]+log\\frac{1}{2}\\right]\\\\[5pt]\n",
    "\\end{align}"
   ]
  },
  {
   "cell_type": "markdown",
   "metadata": {},
   "source": [
    "# Problem 1.(2) "
   ]
  },
  {
   "cell_type": "markdown",
   "metadata": {},
   "source": [
    "$\\text{The decision boundary is where: }$\n",
    "$$ P(y_i = 0\\vert x) = P(y_i = 1\\vert x)$$\n",
    "$\\text{Since the covariance is shared between classes: }$\n",
    "\\begin{align}\n",
    "\\Sigma_{i = 1}^{N}\\left [log\\frac{1}{2}-g[(x_i-\\mu_0)^T\\Sigma^{-1}(x_i-\\mu_0)]\\right] &=\\Sigma_{i = 1}^{N}\\left [log\\frac{1}{2}-g[(x_i-\\mu_1)^T\\Sigma^{-1}(x_i-\\mu_1)]\\right] \\\\[5pt]\n",
    "N \\cdot log\\frac{1}{2}-g[(x-\\mu_0)^T\\Sigma^{-1}(x-\\mu_0)] &=N \\cdot log\\frac{1}{2}-g[(x-\\mu_1)^T\\Sigma^{-1}(x-\\mu_1)]\\\\[5pt]\n",
    "g(x^T\\Sigma^{-1}x - 2\\mu_0^T\\Sigma^{-1}+ \\mu_0^T\\Sigma^{-1}\\mu_0) & = g(x^T\\Sigma^{-1}x - 2\\mu_1^T\\Sigma^{-1}+ \\mu_1^T\\Sigma^{-1}\\mu_1)\\\\[5pt]\n",
    " g\\left[(2(u_0-u_1)^T\\Sigma^{-1})x-(u_0-u_1)^T\\Sigma^{-1}(u_0-u_1) \\right] & = 0\\\\[5pt]\n",
    "\\end{align}\n",
    "$\\text{So the decision boundary is a linear function }$\n",
    "\n",
    "\\begin{align}\n",
    " ax+b & =(2(u_0-u_1)^T\\Sigma^{-1})x-(u_0-u_1)^T\\Sigma^{-1}(u_0-u_1) \\\\[5pt]\n",
    "a &= 2(u_0-u_1)^T\\Sigma^{-1}\\\\[5pt]\n",
    "b &= -(u_0-u_1)^T\\Sigma^{-1}(u_0-u_1)\n",
    "\\end{align}"
   ]
  },
  {
   "cell_type": "markdown",
   "metadata": {},
   "source": [
    "# Problem 2.(1) Logistic Regression"
   ]
  },
  {
   "cell_type": "code",
   "execution_count": 4,
   "metadata": {},
   "outputs": [],
   "source": [
    "# Read data\n",
    "dataset = np.load('Data.npy', allow_pickle=True).item()\n",
    "X = dataset['X']\n",
    "Y = dataset['Y']\n",
    "\n",
    "def split_sample(X, Y, n):\n",
    "    n = int(X.shape[0]*n)\n",
    "    X_train  = X[0:n, :].astype('float32')\n",
    "    Y_train = Y[0:n, :].astype('float32')\n",
    "    X_test  = X[n:, :].astype('float32')\n",
    "    Y_test = Y[n:, :].astype('float32')\n",
    "    \n",
    "    X_train = (X_train - np.mean(X_train, axis=0)) / np.std(X_train, axis=0)\n",
    "    X_test = (X_test - np.mean(X_test, axis=0)) / np.std(X_test, axis=0)\n",
    "    \n",
    "    X_training = torch.cat((torch.from_numpy(X_train), torch.ones(X_train.shape[0],1)), 1)\n",
    "    X_testing = torch.cat((torch.from_numpy(X_test), torch.ones(X_test.shape[0],1)),1)\n",
    "    Y_training = torch.from_numpy(Y_train)\n",
    "    \n",
    "    return X_training, Y_training, X_testing, Y_test\n",
    "\n",
    "\n",
    "def Adam(learning_rate, it, m, v, w):\n",
    "    '''Adam optimization'''\n",
    "    theta_one = 0.9\n",
    "    theta_two = 0.999\n",
    "    epsilon = 1e-8\n",
    "    m = theta_one * m + (1 - theta_one) * w.grad\n",
    "    v = theta_two * v + (1 - theta_two) * (w.grad).pow(2)\n",
    "    m_hat = m / (1 - theta_one ** (it + 1))\n",
    "    v_hat = v / (1 - theta_two ** (it+ 1))\n",
    "    w -= learning_rate * m_hat / (torch.sqrt(v_hat) + epsilon)\n",
    "    return m, v, w\n",
    "\n",
    "# Hyperparameters\n",
    "learning_rate = 1e-3"
   ]
  },
  {
   "cell_type": "code",
   "execution_count": 5,
   "metadata": {},
   "outputs": [],
   "source": [
    "#split sample\n",
    "X_training, Y_training, X_testing, Y_test = split_sample(X, Y, 0.75)\n",
    "\n",
    "# Initialize weights and m/v for Adam\n",
    "w1 = torch.cat((torch.randn(10,1)* ((2/11)**0.5), torch.zeros(1, 1)), 0)\n",
    "w1.requires_grad_(True)\n",
    "\n",
    "m1 = torch.zeros(w1.size()) \n",
    "v1 = torch.zeros(w1.size())\n",
    "\n",
    "# define forward pass\n",
    "def forward(X, w1):\n",
    "    '''Forward propagation'''\n",
    "    O1 = X.mm(w1)\n",
    "    y_pred = torch.sigmoid(O1)\n",
    "#     for i in range (y_pred.shape[0]):\n",
    "#         y_pred[i] = 1 if y_pred[i] > 0.5 else 0\n",
    "    return y_pred\n",
    "\n",
    "accc = []\n",
    "# Iterations\n",
    "for it in range(2500):\n",
    "    # Setup model and calculate predicted f\n",
    "    y_pred = forward(X_training, w1)\n",
    "    \n",
    "    # Compute BCE_LOSS\n",
    "    n = y_pred.shape[0]\n",
    "    loss = (-1/n)*((torch.log(y_pred).t()).mm(Y_training)+(torch.log(1-y_pred).t()).mm(1-Y_training))\n",
    "\n",
    "    # Backward pass\n",
    "    loss.backward()\n",
    "    \n",
    "    \n",
    "\n",
    "    # update weights by Adam optimization\n",
    "    with torch.no_grad(): \n",
    "        m1, v1, w1 = Adam(learning_rate, it, m1, v1, w1)\n",
    "        w1.grad.zero_()\n",
    "\n",
    "# loss of SGD decreases slower than Adam so didn't use\n",
    "#     with torch.no_grad(): \n",
    "#         w1 -= learning_rate * w1.grad\n",
    "#         w1.grad.zero_()\n"
   ]
  },
  {
   "cell_type": "code",
   "execution_count": 9,
   "metadata": {},
   "outputs": [
    {
     "name": "stdout",
     "output_type": "stream",
     "text": [
      "(2, 2)\n",
      "accuracy = 0.826036866359447\n",
      "                           actual_positive     actual negative\n",
      "predicted positive                     403                   1\n",
      "predicted negative                     150                 314\n"
     ]
    }
   ],
   "source": [
    "# Accuracy and confusion matrix.\n",
    "Y_pred = forward(X_testing,w1).detach().numpy()\n",
    "for i in range (Y_pred.shape[0]):\n",
    "    Y_pred[i] = 0 if Y_pred[i] <0.5 else 1\n",
    "c_met, acc = confusion_matrix(Y_test,Y_pred.round())\n",
    "print(c_met.shape)\n",
    "\n",
    "acc = accuracy_score(Y_test,Y_pred)\n",
    "confusion_table = pd.DataFrame(c_met,columns=['       actual_positive','   actual negative'],index=['predicted positive','predicted negative'])\n",
    "print('accuracy = ' + str(acc))\n",
    "print(confusion_table)"
   ]
  },
  {
   "cell_type": "code",
   "execution_count": 13,
   "metadata": {},
   "outputs": [
    {
     "ename": "SyntaxError",
     "evalue": "invalid syntax (<ipython-input-13-6f3964b1b64b>, line 8)",
     "output_type": "error",
     "traceback": [
      "\u001b[1;36m  File \u001b[1;32m\"<ipython-input-13-6f3964b1b64b>\"\u001b[1;36m, line \u001b[1;32m8\u001b[0m\n\u001b[1;33m    if (Y_pred[i] == 0 && Y_test[i] == 0):\u001b[0m\n\u001b[1;37m                        ^\u001b[0m\n\u001b[1;31mSyntaxError\u001b[0m\u001b[1;31m:\u001b[0m invalid syntax\n"
     ]
    }
   ],
   "source": [
    "def confusion_matrix(Y_pred, Y_test):\n",
    "    pp_ap = 0           # predicted positive, actual positve\n",
    "    pp_an = 0           # predicted positive, actual negative \n",
    "    pn_an = 0           # predicted negative, actual negative \n",
    "    pn_ap = 0           # predicted negative, actual positive \n",
    "    \n",
    "    for i in range(Y_pred.shape[0]):\n",
    "        if (Y_pred[i] == 0 && Y_test[i] == 0):\n",
    "            pn_an +=1\n",
    "        if (Y_pred[i] == 0 && Y_test[i] == 1):\n",
    "            pn_ap += 1   \n",
    "        if (Y_pred[i] == 1 && Y_test[i] == 1):\n",
    "            pp_ap += 1 \n",
    "        if (Y_pred[i] == 1 && Y_test[i] == 0):\n",
    "            pp_an += 1\n",
    "    confusion_matrix = np.zeros((2, 2))\n",
    "    confusion_matrix[0][0] = pp_ap\n",
    "    confusion_matrix[0][1] = pp_an\n",
    "    confusion_matrix[1][0] = pn_ap\n",
    "    confusion_matrix[1][1] = pn_an\n",
    "    accuracy = ((pp_ap+pn_an)/Y_pred.shape[0]).round(4)\n",
    "    \n",
    "    return accuracy, confusion_matrix"
   ]
  },
  {
   "cell_type": "markdown",
   "metadata": {},
   "source": [
    "# Problem 2.(2)"
   ]
  },
  {
   "cell_type": "code",
   "execution_count": 360,
   "metadata": {
    "scrolled": true
   },
   "outputs": [
    {
     "data": {
      "image/png": "[encoded data removed]",
      "text/plain": [
       "<Figure size 432x288 with 1 Axes>"
      ]
     },
     "metadata": {
      "needs_background": "light"
     },
     "output_type": "display_data"
    },
    {
     "name": "stdout",
     "output_type": "stream",
     "text": [
      "399 0.3552274703979492\n"
     ]
    }
   ],
   "source": [
    "#split sample\n",
    "X_training, Y_training, X_testing, Y_test = split_sample(X, Y, 0.75)\n",
    "\n",
    "# Define initialize weights and m/v\n",
    "w1 = torch.cat((torch.randn(10,100)* ((2/110)**0.5), torch.zeros(1, 100)), 0)           #Add bias\n",
    "w2 = torch.cat((torch.randn(100,1)* ((2/101)**0.5), torch.zeros(1, 1)), 0)\n",
    "\n",
    "w1.requires_grad_(True)\n",
    "w2.requires_grad_(True)\n",
    "\n",
    "\n",
    "m1 = torch.zeros(w1.size()) \n",
    "v1 = torch.zeros(w1.size())\n",
    "m2 = torch.zeros(w2.size()) \n",
    "v2 = torch.zeros(w2.size())\n",
    "\n",
    "\n",
    "# define forward pass\n",
    "def forward22(X, w1, w2):\n",
    "    '''Forward propagation'''\n",
    "    O1 = X.mm(w1)\n",
    "    h1 = torch.cat((torch.tanh(O1),torch.ones(O1.size()[0],1)), 1)        # Add bias\n",
    "    O2 = torch.sigmoid(h1.mm(w2))\n",
    "    return O2\n",
    "\n",
    "accc=[]\n",
    "# Iterations\n",
    "for it in range(400):\n",
    "    # Setup model and calculate predicted f\n",
    "    y_pred = forward22(X_training, w1, w2)\n",
    "\n",
    "    \n",
    "# Compute BCE_LOSS\n",
    "    n = y_pred.shape[0]\n",
    "    loss = (-1/n)*((torch.log(y_pred).t()).mm(Y_training)+(torch.log(1-y_pred).t()).mm(1-Y_training))\n",
    "    \n",
    "    # Backward pass\n",
    "    loss.backward()\n",
    "\n",
    "    # update weights by Adam optimization\n",
    "    with torch.no_grad(): \n",
    "        m1, v1, w1 = Adam(learning_rate, it, m1, v1, w1)\n",
    "        m2, v2, w2 = Adam(learning_rate, it, m2, v2, w2)\n",
    "        w1.grad.zero_()\n",
    "        w2.grad.zero_()\n",
    "        \n",
    "    # Accuracy and confusion matrix.\n",
    "    Y_pred = forward22(X_testing,w1, w2).detach().numpy()\n",
    "    for i in range (Y_pred.shape[0]):\n",
    "        Y_pred[i] = 0 if Y_pred[i] < 0.5 else 1\n",
    "    c_met = confusion_matrix(Y_test,Y_pred)\n",
    "    acc = accuracy_score(Y_test,Y_pred)\n",
    "    accc.append(acc)\n",
    "\n",
    "x = range(0,400)\n",
    "plt.plot(x, accc)\n",
    "plt.show()\n",
    "print(it,loss.item())"
   ]
  },
  {
   "cell_type": "code",
   "execution_count": 361,
   "metadata": {},
   "outputs": [
    {
     "name": "stdout",
     "output_type": "stream",
     "text": [
      "accuracy = 0.82719\n",
      "                    actual_positive  actual negative\n",
      "predicted positive              401                3\n",
      "predicted negative              147              317\n"
     ]
    }
   ],
   "source": [
    "# Accuracy and confusion matrix.\n",
    "Y_pred = forward22(X_testing,w1, w2).detach().numpy()\n",
    "for i in range (Y_pred.shape[0]):\n",
    "    Y_pred[i] = 0 if Y_pred[i] <0.5 else 1\n",
    "c_met = confusion_matrix(Y_test,Y_pred)\n",
    "acc = accuracy_score(Y_test,Y_pred)\n",
    "confusion_table = pd.DataFrame(c_met,columns=['actual_positive','actual negative'],index=['predicted positive','predicted negative'])\n",
    "print('accuracy = ' + str(acc.round(5)))\n",
    "print(confusion_table)"
   ]
  },
  {
   "cell_type": "markdown",
   "metadata": {},
   "source": [
    "# Problem 2.(3)"
   ]
  },
  {
   "cell_type": "code",
   "execution_count": 375,
   "metadata": {
    "scrolled": true
   },
   "outputs": [
    {
     "data": {
      "image/png": "[encoded data removed]",
      "text/plain": [
       "<Figure size 432x288 with 1 Axes>"
      ]
     },
     "metadata": {
      "needs_background": "light"
     },
     "output_type": "display_data"
    },
    {
     "name": "stdout",
     "output_type": "stream",
     "text": [
      "399 0.3591156303882599\n"
     ]
    }
   ],
   "source": [
    "N = [0.25, 0.35, 0.45, 0.55, 0.65, 0.75, 0.85]\n",
    "accc=[]\n",
    "\n",
    "for n in N:\n",
    "    \n",
    "    # split samples\n",
    "    X_training, Y_training, X_testing, Y_test = split_sample(X, Y, n)\n",
    "\n",
    "    # Define initialize weights and m/v\n",
    "    w1 = torch.cat((torch.randn(10,100)* ((2/110)**0.5), torch.zeros(1, 100)), 0)           #Add bias\n",
    "    w2 = torch.cat((torch.randn(100,1)* ((2/101)**0.5), torch.zeros(1, 1)), 0)\n",
    "\n",
    "    w1.requires_grad_(True)\n",
    "    w2.requires_grad_(True)\n",
    "\n",
    "    m1 = torch.zeros(w1.size()) \n",
    "    v1 = torch.zeros(w1.size())\n",
    "    m2 = torch.zeros(w2.size()) \n",
    "    v2 = torch.zeros(w2.size())\n",
    "\n",
    "\n",
    "    # define forward pass\n",
    "    def forward22(X, w1, w2):\n",
    "        '''Forward propagation'''\n",
    "        O1 = X.mm(w1)\n",
    "        h1 = torch.cat((torch.tanh(O1),torch.ones(O1.size()[0],1)), 1)        # Add bias\n",
    "        O2 = torch.sigmoid(h1.mm(w2))\n",
    "        return O2\n",
    "\n",
    "    \n",
    "    # Iterations\n",
    "    for it in range(400):\n",
    "        # Setup model and calculate predicted f\n",
    "        y_pred = forward22(X_training, w1, w2)\n",
    "\n",
    "\n",
    "    # Compute BCE_LOSS\n",
    "        n = y_pred.shape[0]\n",
    "        loss = (-1/n)*((torch.log(y_pred).t()).mm(Y_training)+(torch.log(1-y_pred).t()).mm(1-Y_training))\n",
    "\n",
    "        # Backward pass\n",
    "        loss.backward()\n",
    "\n",
    "        # update weights by Adam optimization\n",
    "        with torch.no_grad(): \n",
    "            m1, v1, w1 = Adam(learning_rate, it, m1, v1, w1)\n",
    "            m2, v2, w2 = Adam(learning_rate, it, m2, v2, w2)\n",
    "            w1.grad.zero_()\n",
    "            w2.grad.zero_()\n",
    "\n",
    "    # Accuracy and confusion matrix.\n",
    "    Y_pred = forward22(X_testing,w1, w2).detach().numpy()\n",
    "    for i in range (Y_pred.shape[0]):\n",
    "        Y_pred[i] = 0 if Y_pred[i] < 0.5 else 1\n",
    "    c_met = confusion_matrix(Y_test,Y_pred)\n",
    "    acc = accuracy_score(Y_test,Y_pred)\n",
    "    accc.append(acc)\n",
    "\n",
    "plt.plot(N, accc, '-o')\n",
    "plt.xlabel('% of training samples')\n",
    "plt.ylabel('accuracy')\n",
    "plt.show()\n",
    "print(it,loss.item())"
   ]
  },
  {
   "cell_type": "markdown",
   "metadata": {},
   "source": [
    "# Problem 3"
   ]
  },
  {
   "cell_type": "code",
   "execution_count": 109,
   "metadata": {},
   "outputs": [],
   "source": [
    "def generate_samples(N):\n",
    "    '''Generalize and initialize N train samples'''\n",
    "    \n",
    "    # Generate N test samples.\n",
    "    train_s = 4 * lhs(2, N) + 50\n",
    "    train_f = np.multiply(np.cos(np.pi*train_s[:, 0]), np.cos(np.pi*train_s[:, 1]))[:, None]\n",
    "    \n",
    "    # Initialize and add bias (b = 0 initially)\n",
    "    train_s = np.hstack([(train_s - np.mean(train_s,axis = 0))/ np.std(train_s,axis = 0),np.ones((train_s.shape[0],1))]).astype('float32')\n",
    "    train_f = (train_f - np.mean(train_f,axis = 0))/ np.std(train_f,axis = 0).astype('float32')\n",
    "    train_s = torch.from_numpy(train_s)\n",
    "    train_f = torch.from_numpy(train_f)\n",
    "    return train_s, train_f\n",
    "\n",
    "# Generate 100 test samples\n",
    "test_s = (4 * lhs(2,100) + 50).astype('float32')\n",
    "test_f = np.multiply(np.cos(np.pi*test_s[:, 0]), np.cos(np.pi*test_s[:, 1]))[:, None]\n",
    "test_s = np.hstack([(test_s - np.mean(test_s,axis = 0))/ np.std(test_s,axis = 0),np.ones((test_s.shape[0],1))]).astype('float32')\n",
    "test_f = (test_f - np.mean(test_f,axis = 0))/ np.std(test_f,axis = 0).astype('float32')\n",
    "test_s = torch.from_numpy(test_s)\n",
    "\n",
    "def Adam(learning_rate, it, m, v, w):\n",
    "    '''Adam optimization'''\n",
    "    theta_one = 0.9\n",
    "    theta_two = 0.999\n",
    "    epsilon = 1e-8\n",
    "    m = theta_one * m + (1 - theta_one) * w.grad\n",
    "    v = theta_two * v + (1 - theta_two) * (w.grad).pow(2)\n",
    "    m_hat = m / (1 - theta_one ** (it + 1))\n",
    "    v_hat = v / (1 - theta_two ** (it+ 1))\n",
    "    w -= learning_rate * m_hat / (torch.sqrt(v_hat) + epsilon)\n",
    "    return m, v, w\n",
    "\n",
    "def error(pred_f, test_f):\n",
    "    '''Calculate relative L2 error'''\n",
    "    error = pred_f - test_f\n",
    "    relative_error = np.linalg.norm(error) / np.linalg.norm(test_f)\n",
    "    return relative_error"
   ]
  },
  {
   "cell_type": "code",
   "execution_count": 104,
   "metadata": {},
   "outputs": [
    {
     "name": "stdout",
     "output_type": "stream",
     "text": [
      "4999 1.3928536126293923e-07\n",
      "[1.8787508]\n",
      "4999 1.2975431289932774e-05\n",
      "[1.8787508, 0.42969793]\n",
      "4999 0.00017560965614489023\n",
      "[1.8787508, 0.42969793, 0.16507916]\n",
      "4999 0.00032730532737686006\n",
      "[1.8787508, 0.42969793, 0.16507916, 0.14804953]\n",
      "4999 0.000146479534322745\n",
      "[1.8787508, 0.42969793, 0.16507916, 0.14804953, 0.14185783]\n"
     ]
    }
   ],
   "source": [
    "errors = []\n",
    "N =  [10, 100, 1000, 5000, 10000]\n",
    "learning_rate = 1e-3\n",
    "\n",
    "for i in range(5):\n",
    "    \n",
    "    # Initialize weights and m/v for Adam\n",
    "    w1 = torch.cat((torch.randn(2,50)* ((1/26)**0.5), torch.zeros(1, 50)), 0)\n",
    "    w2 = torch.cat((torch.randn(50,50)* ((1/50)**0.5), torch.zeros(1, 50)), 0)\n",
    "    w3 = torch.cat((torch.randn(50,1)* ((2/51)**0.5), torch.zeros(1, 1)), 0)\n",
    "    w1.requires_grad_(True)\n",
    "    w2.requires_grad_(True)\n",
    "    w3.requires_grad_(True)\n",
    "\n",
    "    m1 = torch.zeros(w1.size()) \n",
    "    v1 = torch.zeros(w1.size())\n",
    "    m2 = torch.zeros(w2.size()) \n",
    "    v2 = torch.zeros(w2.size())\n",
    "    m3 = torch.zeros(w3.size()) \n",
    "    v3 = torch.zeros(w3.size())\n",
    "\n",
    "\n",
    "    # define forward pass\n",
    "    def forward3(X, w1, w2, w3):\n",
    "        '''Forward propagation'''\n",
    "        O1 = X.mm(w1)\n",
    "        h1 = torch.cat((torch.tanh(O1),torch.ones(O1.size()[0],1)), 1)        # Add bias\n",
    "        O2 = h1.mm(w2)\n",
    "        h2 = torch.cat((torch.tanh(O2),torch.ones(O2.size()[0],1)), 1)      # Add bias\n",
    "        pred_f  = h2.mm(w3)\n",
    "        return pred_f\n",
    "\n",
    "    # Generate train samples\n",
    "    train_s, train_f = generate_samples(N[i])\n",
    "\n",
    "    # Iterations\n",
    "    for it in range(5000):\n",
    "        # Setup model and calculate predicted f\n",
    "        pred_f = forward3(train_s, w1, w2, w3)\n",
    "\n",
    "        #loss = MSE_LOSS\n",
    "        n = train_s.size()[0]\n",
    "        loss = (1/n)*(pred_f - train_f).pow(2).sum()\n",
    "\n",
    "        # Backward pass\n",
    "\n",
    "        loss.backward()\n",
    "\n",
    "        # update weights by Adam optimization\n",
    "        with torch.no_grad(): \n",
    "            m1, v1, w1 = Adam(learning_rate, it, m1, v1, w1)\n",
    "            m2, v2, w2 = Adam(learning_rate, it, m2, v2, w2)\n",
    "            m3, v3, w3 = Adam(learning_rate, it, m3, v3, w3)\n",
    "            w1.grad.zero_()\n",
    "            w2.grad.zero_()\n",
    "            w3.grad.zero_()\n",
    "    \n",
    "    # Calculate error\n",
    "    pred_f = forward3(test_s, w1, w2, w3).detach().numpy()\n",
    "    errors.append(error(pred_f, test_f))\n",
    "    # Check\n",
    "    print(it,loss.item())\n",
    "    print(errors)"
   ]
  },
  {
   "cell_type": "code",
   "execution_count": 108,
   "metadata": {},
   "outputs": [
    {
     "data": {
      "image/png": "[encoded data removed]",
      "text/plain": [
       "<Figure size 432x288 with 1 Axes>"
      ]
     },
     "metadata": {
      "needs_background": "light"
     },
     "output_type": "display_data"
    }
   ],
   "source": [
    "plt.figure()\n",
    "plt.plot(N,errors,marker='o')\n",
    "plt.title('Relative L2 error vs iteration')\n",
    "plt.xscale('log')\n",
    "plt.xlabel('# of train samples')\n",
    "plt.ylabel('error')\n",
    "plt.show()"
   ]
  },
  {
   "cell_type": "code",
   "execution_count": null,
   "metadata": {},
   "outputs": [],
   "source": []
  },
  {
   "cell_type": "code",
   "execution_count": 115,
   "metadata": {},
   "outputs": [
    {
     "name": "stdout",
     "output_type": "stream",
     "text": [
      "4999 0.003679346620458638\n",
      "[1.0565984]\n",
      "4999 0.03679766235890274\n",
      "[1.0565984, 1.0112159]\n",
      "4999 0.3836043679765222\n",
      "[1.0565984, 1.0112159, 0.99924326]\n",
      "4999 1.9206813375753322\n",
      "[1.0565984, 1.0112159, 0.99924326, 1.0015724]\n",
      "4999 0.3829360640049371\n",
      "[1.0565984, 1.0112159, 0.99924326, 1.0015724, 1.0047376]\n"
     ]
    }
   ],
   "source": [
    "errors = []\n",
    "N =  [10, 100, 1000, 5000, 1000]\n",
    "learning_rate = 1e-3\n",
    "\n",
    "for i in range(5):\n",
    "    \n",
    "    # Initialize weights and m/v for Adam\n",
    "    w1 = torch.cat((torch.randn(2,50)* ((1/26)**0.5), torch.zeros(1, 50)), 0)\n",
    "    w2 = torch.cat((torch.randn(50,50)* ((1/50)**0.5), torch.zeros(1, 50)), 0)\n",
    "    w3 = torch.cat((torch.randn(50,1)* ((2/51)**0.5), torch.zeros(1, 1)), 0)\n",
    "    w1.requires_grad_(True)\n",
    "    w2.requires_grad_(True)\n",
    "    w3.requires_grad_(True)\n",
    "\n",
    "    # def forward pass\n",
    "    def forward(X, w1, w2, w3):\n",
    "        '''Forward propagation'''\n",
    "        O1 = X.mm(w1)\n",
    "        h1 = torch.cat((torch.tanh(O1),torch.ones(O1.size()[0],1)), 1)        # Add bias\n",
    "        O2 = h1.mm(w2)\n",
    "        h2 = torch.cat((torch.tanh(O2),torch.ones(O2.size()[0],1)), 1)      # Add bias\n",
    "        pred_f  = h2.mm(w3)\n",
    "        return pred_f\n",
    "\n",
    "    # Generate train samples\n",
    "    train_s, train_f = generate_samples(N[i])\n",
    "\n",
    "    # Iterations\n",
    "    for it in range(5000):\n",
    "        # Setup model and calculate predicted f\n",
    "        pred_f = forward(train_s, w1, w2, w3)\n",
    "\n",
    "        # Compute and print loss\n",
    "        #loss = MSE_LOSS(pred_f, train_f)\n",
    "        loss = (1/n)*(pred_f - train_f).pow(2).sum()\n",
    "\n",
    "        # Backward pass\n",
    "        loss.backward()\n",
    "\n",
    "        # update weights by SGD optimization\n",
    "        with torch.no_grad(): \n",
    "            w1 -= learning_rate * w1.grad\n",
    "            w2 -= learning_rate * w2.grad\n",
    "            w3 -= learning_rate * w3.grad\n",
    "            w1.grad.zero_()\n",
    "            w2.grad.zero_()\n",
    "            w3.grad.zero_()\n",
    "    \n",
    "    # Calculate error\n",
    "    pred_f = forward(test_s, w1, w2, w3).detach().numpy()\n",
    "    errors.append(error(pred_f, test_f))\n",
    "    # Check\n",
    "    print(it,loss.item())\n",
    "    print(errors)"
   ]
  },
  {
   "cell_type": "code",
   "execution_count": 304,
   "metadata": {},
   "outputs": [
    {
     "data": {
      "image/png": "[encoded data removed]",
      "text/plain": [
       "<Figure size 432x288 with 1 Axes>"
      ]
     },
     "metadata": {
      "needs_background": "light"
     },
     "output_type": "display_data"
    },
    {
     "name": "stdout",
     "output_type": "stream",
     "text": [
      "499 0.3704920709133148\n"
     ]
    }
   ],
   "source": [
    "#2.2\n",
    "# Define weights\n",
    "w1 = torch.cat((torch.randn(10,50)* ((1/30)**0.5), torch.zeros(1, 50)), 0)           #Add bias\n",
    "w2 = torch.cat((torch.randn(50,50)* ((1/50)**0.5), torch.zeros(1, 50)), 0)\n",
    "w3 = torch.cat((torch.randn(50,1)* ((2/51)**0.5), torch.zeros(1, 1)), 0)\n",
    "w1.requires_grad_(True)\n",
    "w2.requires_grad_(True)\n",
    "w3.requires_grad_(True)\n",
    "\n",
    "m1 = torch.zeros(w1.size()) \n",
    "v1 = torch.zeros(w1.size())\n",
    "m2 = torch.zeros(w2.size()) \n",
    "v2 = torch.zeros(w2.size())\n",
    "m3 = torch.zeros(w3.size()) \n",
    "v3 = torch.zeros(w3.size())\n",
    "\n",
    "\n",
    "# define forward pass\n",
    "def forward22(X, w1, w2, w3):\n",
    "    '''Forward propagation'''\n",
    "    O1 = X.mm(w1)\n",
    "    h1 = torch.cat((torch.sigmoid(O1),torch.ones(O1.size()[0],1)), 1)        # Add bias\n",
    "    O2 = h1.mm(w2)\n",
    "    h2 = torch.cat((torch.sigmoid(O2),torch.ones(O2.size()[0],1)), 1)      # Add bias\n",
    "    y_pred  = torch.sigmoid(h2.mm(w3))\n",
    "    return y_pred\n",
    "\n",
    "accc=[]\n",
    "# Iterations\n",
    "for it in range(500):\n",
    "    # Setup model and calculate predicted f\n",
    "    y_pred = forward22(X_training, w1, w2, w3)\n",
    "\n",
    "    # Compute BCE_LOSS\n",
    "    n = y_pred.shape[0]\n",
    "    loss = (-1/n)*((torch.log(y_pred).t()).mm(Y_training)+(torch.log(1-y_pred).t()).mm(1-Y_training))\n",
    "\n",
    "    \n",
    "    # Backward pass\n",
    "    loss.backward()\n",
    "\n",
    "    # update weights by Adam optimization\n",
    "    with torch.no_grad(): \n",
    "        m1, v1, w1 = Adam(learning_rate, it, m1, v1, w1)\n",
    "        m2, v2, w2 = Adam(learning_rate, it, m2, v2, w2)\n",
    "        m3, v3, w3 = Adam(learning_rate, it, m3, v3, w3)\n",
    "        w1.grad.zero_()\n",
    "        w2.grad.zero_()\n",
    "        w3.grad.zero_()\n",
    "    \n",
    "    # Accuracy and confusion matrix.\n",
    "    Y_pred = forward22(X_testing,w1, w2, w3).detach().numpy()\n",
    "    for i in range (Y_pred.shape[0]):\n",
    "        Y_pred[i] = 0 if Y_pred[i] < 0.5 else 1\n",
    "    c_met = confusion_matrix(Y_test,Y_pred)\n",
    "    acc = accuracy_score(Y_test,Y_pred)\n",
    "    accc.append(acc)\n",
    "\n",
    "x = range(0,500)\n",
    "plt.plot(x, accc)\n",
    "plt.show()\n",
    "print(it,loss.item())\n"
   ]
  },
  {
   "cell_type": "code",
   "execution_count": null,
   "metadata": {},
   "outputs": [],
   "source": []
  }
 ],
 "metadata": {
  "kernelspec": {
   "display_name": "Python 3",
   "language": "python",
   "name": "python3"
  },
  "language_info": {
   "codemirror_mode": {
    "name": "ipython",
    "version": 3
   },
   "file_extension": ".py",
   "mimetype": "text/x-python",
   "name": "python",
   "nbconvert_exporter": "python",
   "pygments_lexer": "ipython3",
   "version": "3.7.3"
  }
 },
 "nbformat": 4,
 "nbformat_minor": 2
}
